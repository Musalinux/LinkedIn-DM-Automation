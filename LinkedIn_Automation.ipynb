{
  "nbformat": 4,
  "nbformat_minor": 0,
  "metadata": {
    "colab": {
      "provenance": [],
      "authorship_tag": "ABX9TyN1xZKLDI8wtm4L78mZyGUy",
      "include_colab_link": true
    },
    "kernelspec": {
      "name": "python3",
      "display_name": "Python 3"
    },
    "language_info": {
      "name": "python"
    }
  },
  "cells": [
    {
      "cell_type": "markdown",
      "metadata": {
        "id": "view-in-github",
        "colab_type": "text"
      },
      "source": [
        "<a href=\"https://colab.research.google.com/github/Musalinux/LinkedIn-DM-Automation/blob/main/LinkedIn_Automation.ipynb\" target=\"_parent\"><img src=\"https://colab.research.google.com/assets/colab-badge.svg\" alt=\"Open In Colab\"/></a>"
      ]
    },
    {
      "cell_type": "markdown",
      "source": [
        "## 🔹 Step 1: Upload LinkedIn connections exported data"
      ],
      "metadata": {
        "id": "0o52YIYoh4GO"
      }
    },
    {
      "cell_type": "code",
      "execution_count": null,
      "metadata": {
        "id": "ZJgLbLmxhldH"
      },
      "outputs": [],
      "source": [
        "from google.colab import files\n",
        "files.upload()"
      ]
    },
    {
      "cell_type": "markdown",
      "source": [
        "## 🔹 Step 2: Install Dependencies"
      ],
      "metadata": {
        "id": "PnR8TlMOh_vw"
      }
    },
    {
      "cell_type": "code",
      "source": [
        "!pip install selenium beautifulsoup4 pandas requests openai playwright\n",
        "!playwright install\n"
      ],
      "metadata": {
        "id": "mYOmfVQhiDwY"
      },
      "execution_count": null,
      "outputs": []
    },
    {
      "cell_type": "markdown",
      "source": [
        "## 🔹 Step 3: Import Libraries"
      ],
      "metadata": {
        "id": "ju3jkn_JiFel"
      }
    },
    {
      "cell_type": "code",
      "source": [
        "import pandas as pd\n",
        "import requests\n",
        "from bs4 import BeautifulSoup\n",
        "import openai\n",
        "import time"
      ],
      "metadata": {
        "id": "x7Bs8ZKViQih"
      },
      "execution_count": null,
      "outputs": []
    },
    {
      "cell_type": "markdown",
      "source": [
        "## 🔹 Step 4: Load LinkedIn Connections\n",
        "Manually export your LinkedIn connections as a CSV and upload to Colab.\n",
        "Then let's load this CSV"
      ],
      "metadata": {
        "id": "6kWsPmM8iWCR"
      }
    },
    {
      "cell_type": "code",
      "source": [
        "from google.colab import files\n",
        "\n",
        "uploaded = files.upload()  # Upload Connections.csv manually\n",
        "\n",
        "df = pd.read_csv(\"Connections.csv\")  # Load LinkedIn exported CSV\n",
        "\n",
        "# Keep only necessary columns\n",
        "df = df[['First Name', 'Last Name', 'Company', 'Profile URL']]\n",
        "\n",
        "print(df.head())  # Display first 5 rows\n"
      ],
      "metadata": {
        "id": "_gaIRorliVZR"
      },
      "execution_count": null,
      "outputs": []
    },
    {
      "cell_type": "markdown",
      "source": [
        "## 🔹 Step 5: Scrape Company Career Pages\n",
        "We check if the company has job openings automatically.\n",
        "\n"
      ],
      "metadata": {
        "id": "cZtO2HVXihLq"
      }
    },
    {
      "cell_type": "markdown",
      "source": [
        "### A. Find the Career Page"
      ],
      "metadata": {
        "id": "09P3kQZQioRK"
      }
    },
    {
      "cell_type": "code",
      "source": [
        "def check_company_jobs(company_name):\n",
        "    search_url = f\"https://www.google.com/search?q={company_name}+careers+jobs\"\n",
        "\n",
        "    headers = {\"User-Agent\": \"Mozilla/5.0\"}\n",
        "    response = requests.get(search_url, headers=headers)\n",
        "    soup = BeautifulSoup(response.text, \"html.parser\")\n",
        "\n",
        "    for link in soup.find_all(\"a\", href=True):\n",
        "        if \"careers\" in link[\"href\"] or \"jobs\" in link[\"href\"]:\n",
        "            return link[\"href\"]\n",
        "    return None\n"
      ],
      "metadata": {
        "id": "SJckXK0Xi0IK"
      },
      "execution_count": null,
      "outputs": []
    },
    {
      "cell_type": "markdown",
      "source": [
        "### B. Scrape Job Listings"
      ],
      "metadata": {
        "id": "7YVrRppdizhy"
      }
    },
    {
      "cell_type": "code",
      "source": [
        "def scrape_job_listings(careers_page):\n",
        "    headers = {\"User-Agent\": \"Mozilla/5.0\"}\n",
        "    response = requests.get(careers_page, headers=headers)\n",
        "    soup = BeautifulSoup(response.text, \"html.parser\")\n",
        "\n",
        "    jobs = []\n",
        "    for job in soup.find_all(\"a\"):\n",
        "        title = job.get_text()\n",
        "        link = job[\"href\"]\n",
        "        if \"job\" in title.lower():\n",
        "            jobs.append((title, link))\n",
        "\n",
        "    return jobs"
      ],
      "metadata": {
        "id": "fwkN6Cmbi7vk"
      },
      "execution_count": null,
      "outputs": []
    },
    {
      "cell_type": "markdown",
      "source": [
        "## 🔹 Step 6: Integrate ChatGPT/DeepSeek for Personalized Messages\n",
        "We use OpenAI API (ChatGPT) or DeepSeek API to generate highly personalized messages.\n",
        "\n",
        "### A. Setup API Key\n",
        "Using OpenAI (ChatGPT)\n",
        "1. Get your OpenAI API Key from platform.openai.com\n",
        "2. Set it in Colab:"
      ],
      "metadata": {
        "id": "yflrXGSki9Ur"
      }
    },
    {
      "cell_type": "code",
      "source": [
        "openai.api_key = \"YOUR_OPENAI_API_KEY\""
      ],
      "metadata": {
        "id": "e_m1DNLHjHbI"
      },
      "execution_count": null,
      "outputs": []
    },
    {
      "cell_type": "markdown",
      "source": [
        "### B. Generate Personalized Messages\n",
        "Modify the function to use ChatGPT or DeepSeek for better message generation."
      ],
      "metadata": {
        "id": "IigH8FZMkCpG"
      }
    },
    {
      "cell_type": "code",
      "source": [
        "def generate_message(person_name, company_name, job_available, profile_url):\n",
        "    prompt = f\"\"\"\n",
        "    You are an AI assistant helping job seekers. Write a highly professional, warm, and engaging LinkedIn outreach message.\n",
        "\n",
        "    The person is {person_name}, working at {company_name}.\n",
        "    - If a job opening exists, ask for a referral.\n",
        "    - If no openings, introduce yourself and ask about hidden opportunities.\n",
        "\n",
        "    Keep it **concise, polite, and natural**.\n",
        "\n",
        "    Profile URL: {profile_url}\n",
        "    \"\"\"\n",
        "\n",
        "    # Using OpenAI ChatGPT\n",
        "    response = openai.ChatCompletion.create(\n",
        "        model=\"gpt-4\",  # Use \"gpt-3.5-turbo\" if gpt-4 isn't available\n",
        "        messages=[{\"role\": \"system\", \"content\": \"You are a helpful job-seeking assistant.\"},\n",
        "                  {\"role\": \"user\", \"content\": prompt}]\n",
        "    )\n",
        "\n",
        "    return response[\"choices\"][0][\"message\"][\"content\"]\n",
        "\n",
        "# Test Example\n",
        "msg = generate_message(\"Alice\", \"Skyscanner\", True, \"https://linkedin.com/in/alice\")\n",
        "print(msg)\n"
      ],
      "metadata": {
        "id": "AQUyEA8SkH06"
      },
      "execution_count": null,
      "outputs": []
    },
    {
      "cell_type": "markdown",
      "source": [
        "## 🔹 Step 7: Process All Connections\n",
        "Now, we loop through each LinkedIn connection and generate messages."
      ],
      "metadata": {
        "id": "hOlX36SckMJI"
      }
    },
    {
      "cell_type": "code",
      "source": [
        "output_data = []\n",
        "\n",
        "for index, row in df.iterrows():\n",
        "    person_name = row['First Name']\n",
        "    company_name = row['Company']\n",
        "    profile_url = row['Profile URL']\n",
        "\n",
        "    print(f\"Checking jobs at {company_name}...\")\n",
        "\n",
        "    careers_page = check_company_jobs(company_name)\n",
        "\n",
        "    if careers_page:\n",
        "        jobs = scrape_job_listings(careers_page)\n",
        "        job_available = len(jobs) > 0\n",
        "    else:\n",
        "        job_available = False\n",
        "\n",
        "    message = generate_message(person_name, company_name, job_available, profile_url)\n",
        "    output_data.append([company_name, person_name, message, \"Yes\" if job_available else \"No\"])\n",
        "\n",
        "    time.sleep(2)  # Prevent rate limits\n",
        "\n",
        "# Save results\n",
        "output_df = pd.DataFrame(output_data, columns=[\"Company Name\", \"Person Name\", \"Message\", \"Vacancy Yes/No\"])\n",
        "output_df.to_csv(\"linkedin_outreach.csv\", index=False)\n",
        "\n",
        "print(\"Messages saved successfully!\")\n"
      ],
      "metadata": {
        "id": "5uwH6cytkLtH"
      },
      "execution_count": null,
      "outputs": []
    },
    {
      "cell_type": "markdown",
      "source": [
        "## 🔹 Step 8: Download Final Results\n",
        "To download the final output CSV:"
      ],
      "metadata": {
        "id": "gEav86wTkUrI"
      }
    },
    {
      "cell_type": "code",
      "source": [
        "from google.colab import files\n",
        "\n",
        "files.download(\"linkedin_outreach.csv\")"
      ],
      "metadata": {
        "id": "iqcJzYI1kYTn"
      },
      "execution_count": null,
      "outputs": []
    },
    {
      "cell_type": "markdown",
      "source": [
        "## ✅ Summary of Steps\n",
        "### 1️⃣ Setup\n",
        "1. Install selenium, beautifulsoup4, openai, pandas\n",
        "2. Upload LinkedIn CSV to Colab\n",
        "\n",
        "### 2️⃣ Extract LinkedIn Data\n",
        "Load filtered contacts from CSV\n",
        "\n",
        "### 3️⃣ Scrape Career Pages\n",
        "1. Find company career page\n",
        "2. Check if job openings exist\n",
        "\n",
        "### 4️⃣ Generate Personalized Messages\n",
        "Use ChatGPT/DeepSeek API to create high-quality outreach messages\n",
        "\n",
        "### 5️⃣ Save & Download\n",
        "1. Store all messages in CSV\n",
        "2. Download the results"
      ],
      "metadata": {
        "id": "o95Wvn3lkaIj"
      }
    }
  ]
}